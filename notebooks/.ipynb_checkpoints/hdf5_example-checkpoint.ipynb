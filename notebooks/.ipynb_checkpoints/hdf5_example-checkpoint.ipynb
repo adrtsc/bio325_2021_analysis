{
 "cells": [
  {
   "cell_type": "code",
   "execution_count": 1,
   "id": "1c19be5a-a500-4d14-addb-cc1eb4a8cfbc",
   "metadata": {},
   "outputs": [],
   "source": [
    "import napari\n",
    "import h5py\n",
    "from pathlib import Path"
   ]
  },
  {
   "cell_type": "markdown",
   "id": "fa3fd65f-f433-4840-a7dd-451fca4a439b",
   "metadata": {},
   "source": [
    "# HDF5 File Introduction\n",
    "In this notebook, we will try to familiarize ourselves with the file format that we use to compress our images. Let's start by loading some of your images into memory:"
   ]
  },
  {
   "cell_type": "code",
   "execution_count": 2,
   "id": "437bb87e-591b-4197-b12d-46eaaaaf0942",
   "metadata": {},
   "outputs": [],
   "source": [
    "img_path = Path(r'Z:\\20210930_dummy\\hdf5')\n",
    "site = 1\n",
    "file = h5py.File(img_path.joinpath('site_%04d.hdf5' % site), \"r\")"
   ]
  },
  {
   "cell_type": "markdown",
   "id": "85bcdd82-1878-42ca-b7d6-9e28b430de77",
   "metadata": {},
   "source": [
    "As you can see, we use the h5py package to load your images. This is because we compressed the images into the hdf5 format. This is a nice format to handle images, once you get the hang of it. \n",
    "\n",
    "hdf5 is a hierarchical file format that can contain multiple groups and each group can contain multiple datasets.\n",
    "\n",
    "<img src=\"img/hdf5_example.png\" alt=\"Drawing\" style=\"width: 600px;\"/>\n",
    "\n",
    "Every site (position on the microscope) that you have imaged is entirely contained in one single hdf5 file. Let's have a look what kind of groups and datasets are contained in it:"
   ]
  },
  {
   "cell_type": "code",
   "execution_count": 3,
   "id": "a6b68c59-cf05-4dde-af74-8380f9b57350",
   "metadata": {},
   "outputs": [
    {
     "data": {
      "text/plain": [
       "<KeysViewHDF5 ['boundary_images', 'intensity_images', 'label_images']>"
      ]
     },
     "execution_count": 3,
     "metadata": {},
     "output_type": "execute_result"
    }
   ],
   "source": [
    "# get the names of all the groups in the hdf5 file\n",
    "file.keys()"
   ]
  },
  {
   "cell_type": "markdown",
   "id": "3754984e-48a6-4aab-a207-eafc4ed2061a",
   "metadata": {},
   "source": [
    "Looks like the groups represent different image types! At the moment we only have intensity images but once we performed the segmentation we will have another group in the file called \"label_images\". Let's have a look at the datasets inside of the intensity_images group:"
   ]
  },
  {
   "cell_type": "code",
   "execution_count": 4,
   "id": "280a5f38-b371-4117-b765-2ab192c7fdb7",
   "metadata": {},
   "outputs": [
    {
     "data": {
      "text/plain": [
       "<KeysViewHDF5 ['sdcDAPIxmRFPm', 'sdcGFP']>"
      ]
     },
     "execution_count": 4,
     "metadata": {},
     "output_type": "execute_result"
    }
   ],
   "source": [
    "# get the names of all the datasets in the group named intensity_images\n",
    "file['intensity_images'].keys()\n"
   ]
  },
  {
   "cell_type": "markdown",
   "id": "7fa01371-7606-4b76-af2d-e218b8dd62fc",
   "metadata": {},
   "source": [
    "As you can see, each dataset corresponds to one wavelength that you have imaged. Now, let's check out what the \"sdcGFP\" dataset looks like:"
   ]
  },
  {
   "cell_type": "code",
   "execution_count": 5,
   "id": "e1fcc4a6-d96a-4dd7-bf40-4160b813356f",
   "metadata": {},
   "outputs": [
    {
     "data": {
      "text/plain": [
       "(5, 2048, 2048)"
      ]
     },
     "execution_count": 5,
     "metadata": {},
     "output_type": "execute_result"
    }
   ],
   "source": [
    "file['intensity_images/sdcGFP'].shape"
   ]
  },
  {
   "cell_type": "markdown",
   "id": "3c2b5502-ca98-4bb9-a1cc-94d65818c4d9",
   "metadata": {},
   "source": [
    "The dataset is a 3-dimensional array. The dimension order is tyx (time-dimension, y-dimension, x-dimension). Now let's have a look at the images in napari!"
   ]
  },
  {
   "cell_type": "code",
   "execution_count": 6,
   "id": "53686ce7-e50c-4fc8-820a-b568079bc41f",
   "metadata": {},
   "outputs": [
    {
     "data": {
      "text/plain": [
       "<Image layer 'sdcGFP' at 0x27fd54dd190>"
      ]
     },
     "execution_count": 6,
     "metadata": {},
     "output_type": "execute_result"
    }
   ],
   "source": [
    "viewer = napari.Viewer()\n",
    "viewer.add_image(file['intensity_images/sdcGFP'][:], name='sdcGFP', colormap='green')"
   ]
  },
  {
   "cell_type": "code",
   "execution_count": null,
   "id": "3d41347a-39ca-45d4-86fc-434347e3e999",
   "metadata": {},
   "outputs": [],
   "source": []
  }
 ],
 "metadata": {
  "kernelspec": {
   "display_name": "Python 3 (ipykernel)",
   "language": "python",
   "name": "python3"
  },
  "language_info": {
   "codemirror_mode": {
    "name": "ipython",
    "version": 3
   },
   "file_extension": ".py",
   "mimetype": "text/x-python",
   "name": "python",
   "nbconvert_exporter": "python",
   "pygments_lexer": "ipython3",
   "version": "3.9.7"
  }
 },
 "nbformat": 4,
 "nbformat_minor": 5
}
