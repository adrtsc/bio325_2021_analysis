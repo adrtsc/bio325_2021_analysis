{
 "cells": [
  {
   "cell_type": "code",
   "execution_count": 1,
   "id": "1c19be5a-a500-4d14-addb-cc1eb4a8cfbc",
   "metadata": {},
   "outputs": [],
   "source": [
    "import napari\n",
    "import h5py\n",
    "from pathlib import Path"
   ]
  },
  {
   "cell_type": "markdown",
   "id": "fa3fd65f-f433-4840-a7dd-451fca4a439b",
   "metadata": {},
   "source": [
    "# HDF5 File Introduction\n",
    "In this notebook, we will try to familiarize ourselves with the file format that we use to compress our images. Let's start by loading some of your images into memory:"
   ]
  },
  {
   "cell_type": "code",
   "execution_count": 7,
   "id": "437bb87e-591b-4197-b12d-46eaaaaf0942",
   "metadata": {},
   "outputs": [],
   "source": [
    "img_path = Path(r'X:\\20211028_Bio325_Sec16\\hdf5_2')\n",
    "site = 10\n",
    "file = h5py.File(img_path.joinpath('site_%04d.hdf5' % site), \"r\")"
   ]
  },
  {
   "cell_type": "markdown",
   "id": "85bcdd82-1878-42ca-b7d6-9e28b430de77",
   "metadata": {},
   "source": [
    "As you can see, we use the h5py package to load your images. This is because we compressed the images into the hdf5 format. This is a nice format to handle images, once you get the hang of it. \n",
    "\n",
    "hdf5 is a hierarchical file format that can contain multiple groups and each group can contain multiple datasets.\n",
    "\n",
    "<img src=\"img/hdf5_example.png\" alt=\"Drawing\" style=\"width: 600px;\"/>\n",
    "\n",
    "Every site (position on the microscope) that you have imaged is entirely contained in one single hdf5 file. Let's have a look what kind of groups and datasets are contained in it:"
   ]
  },
  {
   "cell_type": "code",
   "execution_count": 8,
   "id": "a6b68c59-cf05-4dde-af74-8380f9b57350",
   "metadata": {},
   "outputs": [
    {
     "data": {
      "text/plain": [
       "<KeysViewHDF5 ['boundary_images', 'intensity_images', 'label_images']>"
      ]
     },
     "execution_count": 8,
     "metadata": {},
     "output_type": "execute_result"
    }
   ],
   "source": [
    "# get the names of all the groups in the hdf5 file\n",
    "file.keys()"
   ]
  },
  {
   "cell_type": "markdown",
   "id": "3754984e-48a6-4aab-a207-eafc4ed2061a",
   "metadata": {},
   "source": [
    "Looks like the groups represent different image types! At the moment we only have intensity images but once we performed the segmentation we will have another group in the file called \"label_images\". Let's have a look at the datasets inside of the intensity_images group:"
   ]
  },
  {
   "cell_type": "code",
   "execution_count": 9,
   "id": "280a5f38-b371-4117-b765-2ab192c7fdb7",
   "metadata": {},
   "outputs": [
    {
     "data": {
      "text/plain": [
       "<KeysViewHDF5 ['cells', 'cytoplasm', 'nuclei']>"
      ]
     },
     "execution_count": 9,
     "metadata": {},
     "output_type": "execute_result"
    }
   ],
   "source": [
    "# get the names of all the datasets in the group named intensity_images\n",
    "file['label_images'].keys()\n"
   ]
  },
  {
   "cell_type": "markdown",
   "id": "7fa01371-7606-4b76-af2d-e218b8dd62fc",
   "metadata": {},
   "source": [
    "As you can see, each dataset corresponds to one wavelength that you have imaged. Now, let's check out what the \"sdcGFP\" dataset looks like:"
   ]
  },
  {
   "cell_type": "code",
   "execution_count": 8,
   "id": "e1fcc4a6-d96a-4dd7-bf40-4160b813356f",
   "metadata": {},
   "outputs": [
    {
     "data": {
      "text/plain": [
       "(36, 2048, 2048)"
      ]
     },
     "execution_count": 8,
     "metadata": {},
     "output_type": "execute_result"
    }
   ],
   "source": [
    "file['intensity_images/sdcGFP'].shape"
   ]
  },
  {
   "cell_type": "markdown",
   "id": "3c2b5502-ca98-4bb9-a1cc-94d65818c4d9",
   "metadata": {},
   "source": [
    "The dataset is a 3-dimensional array. The dimension order is tyx (time-dimension, y-dimension, x-dimension). Now let's have a look at the images in napari!"
   ]
  },
  {
   "cell_type": "code",
   "execution_count": 10,
   "id": "53686ce7-e50c-4fc8-820a-b568079bc41f",
   "metadata": {},
   "outputs": [
    {
     "ename": "TypeError",
     "evalue": "Only integer types are supported for Labels layers, but data contains >u2.",
     "output_type": "error",
     "traceback": [
      "\u001b[1;31m---------------------------------------------------------------------------\u001b[0m",
      "\u001b[1;31mTypeError\u001b[0m                                 Traceback (most recent call last)",
      "\u001b[1;32m~\\AppData\\Local\\Temp/ipykernel_18364/1473444210.py\u001b[0m in \u001b[0;36m<module>\u001b[1;34m\u001b[0m\n\u001b[0;32m      1\u001b[0m \u001b[0mviewer\u001b[0m \u001b[1;33m=\u001b[0m \u001b[0mnapari\u001b[0m\u001b[1;33m.\u001b[0m\u001b[0mViewer\u001b[0m\u001b[1;33m(\u001b[0m\u001b[1;33m)\u001b[0m\u001b[1;33m\u001b[0m\u001b[1;33m\u001b[0m\u001b[0m\n\u001b[0;32m      2\u001b[0m \u001b[0mviewer\u001b[0m\u001b[1;33m.\u001b[0m\u001b[0madd_image\u001b[0m\u001b[1;33m(\u001b[0m\u001b[0mfile\u001b[0m\u001b[1;33m[\u001b[0m\u001b[1;34m'intensity_images/sdcCy5'\u001b[0m\u001b[1;33m]\u001b[0m\u001b[1;33m[\u001b[0m\u001b[1;33m:\u001b[0m\u001b[1;33m]\u001b[0m\u001b[1;33m,\u001b[0m \u001b[0mname\u001b[0m\u001b[1;33m=\u001b[0m\u001b[1;34m'sdcCy5'\u001b[0m\u001b[1;33m,\u001b[0m \u001b[0mcolormap\u001b[0m\u001b[1;33m=\u001b[0m\u001b[1;34m'green'\u001b[0m\u001b[1;33m)\u001b[0m\u001b[1;33m\u001b[0m\u001b[1;33m\u001b[0m\u001b[0m\n\u001b[1;32m----> 3\u001b[1;33m \u001b[0mviewer\u001b[0m\u001b[1;33m.\u001b[0m\u001b[0madd_labels\u001b[0m\u001b[1;33m(\u001b[0m\u001b[0mfile\u001b[0m\u001b[1;33m[\u001b[0m\u001b[1;34m'label_images/cells'\u001b[0m\u001b[1;33m]\u001b[0m\u001b[1;33m[\u001b[0m\u001b[1;33m:\u001b[0m\u001b[1;33m]\u001b[0m\u001b[1;33m)\u001b[0m\u001b[1;33m\u001b[0m\u001b[1;33m\u001b[0m\u001b[0m\n\u001b[0m",
      "\u001b[1;32m<string>\u001b[0m in \u001b[0;36madd_labels\u001b[1;34m(self, data, num_colors, properties, color, seed, name, metadata, scale, translate, rotate, shear, affine, opacity, blending, rendering, visible, multiscale, experimental_slicing_plane, experimental_clipping_planes)\u001b[0m\n",
      "\u001b[1;32m~\\AppData\\Roaming\\Python\\Python39\\site-packages\\napari\\layers\\labels\\labels.py\u001b[0m in \u001b[0;36m__init__\u001b[1;34m(self, data, num_colors, properties, color, seed, name, metadata, scale, translate, rotate, shear, affine, opacity, blending, rendering, visible, multiscale, experimental_slicing_plane, experimental_clipping_planes)\u001b[0m\n\u001b[0;32m    241\u001b[0m         \u001b[0mself\u001b[0m\u001b[1;33m.\u001b[0m\u001b[0m_contour\u001b[0m \u001b[1;33m=\u001b[0m \u001b[1;36m0\u001b[0m\u001b[1;33m\u001b[0m\u001b[1;33m\u001b[0m\u001b[0m\n\u001b[0;32m    242\u001b[0m \u001b[1;33m\u001b[0m\u001b[0m\n\u001b[1;32m--> 243\u001b[1;33m         \u001b[0mdata\u001b[0m \u001b[1;33m=\u001b[0m \u001b[0mself\u001b[0m\u001b[1;33m.\u001b[0m\u001b[0m_ensure_int_labels\u001b[0m\u001b[1;33m(\u001b[0m\u001b[0mdata\u001b[0m\u001b[1;33m)\u001b[0m\u001b[1;33m\u001b[0m\u001b[1;33m\u001b[0m\u001b[0m\n\u001b[0m\u001b[0;32m    244\u001b[0m         \u001b[0mself\u001b[0m\u001b[1;33m.\u001b[0m\u001b[0m_color_lookup_func\u001b[0m \u001b[1;33m=\u001b[0m \u001b[1;32mNone\u001b[0m\u001b[1;33m\u001b[0m\u001b[1;33m\u001b[0m\u001b[0m\n\u001b[0;32m    245\u001b[0m \u001b[1;33m\u001b[0m\u001b[0m\n",
      "\u001b[1;32m~\\AppData\\Roaming\\Python\\Python39\\site-packages\\napari\\layers\\labels\\labels.py\u001b[0m in \u001b[0;36m_ensure_int_labels\u001b[1;34m(self, data)\u001b[0m\n\u001b[0;32m    532\u001b[0m             \u001b[1;31m# numpy dtypes\u001b[0m\u001b[1;33m\u001b[0m\u001b[1;33m\u001b[0m\u001b[0m\n\u001b[0;32m    533\u001b[0m             \u001b[1;32mif\u001b[0m \u001b[0mnp\u001b[0m\u001b[1;33m.\u001b[0m\u001b[0missubdtype\u001b[0m\u001b[1;33m(\u001b[0m\u001b[0mnormalize_dtype\u001b[0m\u001b[1;33m(\u001b[0m\u001b[0mdata_level\u001b[0m\u001b[1;33m.\u001b[0m\u001b[0mdtype\u001b[0m\u001b[1;33m)\u001b[0m\u001b[1;33m,\u001b[0m \u001b[0mnp\u001b[0m\u001b[1;33m.\u001b[0m\u001b[0mfloating\u001b[0m\u001b[1;33m)\u001b[0m\u001b[1;33m:\u001b[0m\u001b[1;33m\u001b[0m\u001b[1;33m\u001b[0m\u001b[0m\n\u001b[1;32m--> 534\u001b[1;33m                 raise TypeError(\n\u001b[0m\u001b[0;32m    535\u001b[0m                     trans._(\n\u001b[0;32m    536\u001b[0m                         \u001b[1;34m\"Only integer types are supported for Labels layers, but data contains {data_level_type}.\"\u001b[0m\u001b[1;33m,\u001b[0m\u001b[1;33m\u001b[0m\u001b[1;33m\u001b[0m\u001b[0m\n",
      "\u001b[1;31mTypeError\u001b[0m: Only integer types are supported for Labels layers, but data contains >u2."
     ]
    },
    {
     "name": "stdout",
     "output_type": "stream",
     "text": [
      "2021-10-29 17:07:07,344 [ERROR] Uncaught exception in ZMQStream callback\n",
      "Traceback (most recent call last):\n",
      "  File \"C:\\Users\\Adrian\\miniconda3\\envs\\bio325_2021\\lib\\site-packages\\zmq\\eventloop\\zmqstream.py\", line 431, in _run_callback\n",
      "    callback(*args, **kwargs)\n",
      "  File \"C:\\Users\\Adrian\\miniconda3\\envs\\bio325_2021\\lib\\site-packages\\jupyter_client\\threaded.py\", line 121, in _handle_recv\n",
      "    msg_list = self.ioloop._asyncio_event_loop.run_until_complete(get_msg(future_msg))\n",
      "  File \"C:\\Users\\Adrian\\miniconda3\\envs\\bio325_2021\\lib\\asyncio\\base_events.py\", line 618, in run_until_complete\n",
      "    self._check_running()\n",
      "  File \"C:\\Users\\Adrian\\miniconda3\\envs\\bio325_2021\\lib\\asyncio\\base_events.py\", line 580, in _check_running\n",
      "    raise RuntimeError(\n",
      "RuntimeError: Cannot run the event loop while another loop is running\n",
      "2021-10-29 17:07:07,344 [ERROR] Uncaught exception in zmqstream callback\n",
      "Traceback (most recent call last):\n",
      "  File \"C:\\Users\\Adrian\\miniconda3\\envs\\bio325_2021\\lib\\site-packages\\zmq\\eventloop\\zmqstream.py\", line 452, in _handle_events\n",
      "    self._handle_recv()\n",
      "  File \"C:\\Users\\Adrian\\miniconda3\\envs\\bio325_2021\\lib\\site-packages\\zmq\\eventloop\\zmqstream.py\", line 481, in _handle_recv\n",
      "    self._run_callback(callback, msg)\n",
      "  File \"C:\\Users\\Adrian\\miniconda3\\envs\\bio325_2021\\lib\\site-packages\\zmq\\eventloop\\zmqstream.py\", line 431, in _run_callback\n",
      "    callback(*args, **kwargs)\n",
      "  File \"C:\\Users\\Adrian\\miniconda3\\envs\\bio325_2021\\lib\\site-packages\\jupyter_client\\threaded.py\", line 121, in _handle_recv\n",
      "    msg_list = self.ioloop._asyncio_event_loop.run_until_complete(get_msg(future_msg))\n",
      "  File \"C:\\Users\\Adrian\\miniconda3\\envs\\bio325_2021\\lib\\asyncio\\base_events.py\", line 618, in run_until_complete\n",
      "    self._check_running()\n",
      "  File \"C:\\Users\\Adrian\\miniconda3\\envs\\bio325_2021\\lib\\asyncio\\base_events.py\", line 580, in _check_running\n",
      "    raise RuntimeError(\n",
      "RuntimeError: Cannot run the event loop while another loop is running\n",
      "2021-10-29 17:07:07,344 [ERROR] Exception in callback BaseAsyncIOLoop._handle_events(8424, 1)\n",
      "handle: <Handle BaseAsyncIOLoop._handle_events(8424, 1)>\n",
      "Traceback (most recent call last):\n",
      "  File \"C:\\Users\\Adrian\\miniconda3\\envs\\bio325_2021\\lib\\asyncio\\events.py\", line 80, in _run\n",
      "    self._context.run(self._callback, *self._args)\n",
      "  File \"C:\\Users\\Adrian\\miniconda3\\envs\\bio325_2021\\lib\\site-packages\\tornado\\platform\\asyncio.py\", line 189, in _handle_events\n",
      "    handler_func(fileobj, events)\n",
      "  File \"C:\\Users\\Adrian\\miniconda3\\envs\\bio325_2021\\lib\\site-packages\\zmq\\eventloop\\zmqstream.py\", line 452, in _handle_events\n",
      "    self._handle_recv()\n",
      "  File \"C:\\Users\\Adrian\\miniconda3\\envs\\bio325_2021\\lib\\site-packages\\zmq\\eventloop\\zmqstream.py\", line 481, in _handle_recv\n",
      "    self._run_callback(callback, msg)\n",
      "  File \"C:\\Users\\Adrian\\miniconda3\\envs\\bio325_2021\\lib\\site-packages\\zmq\\eventloop\\zmqstream.py\", line 431, in _run_callback\n",
      "    callback(*args, **kwargs)\n",
      "  File \"C:\\Users\\Adrian\\miniconda3\\envs\\bio325_2021\\lib\\site-packages\\jupyter_client\\threaded.py\", line 121, in _handle_recv\n",
      "    msg_list = self.ioloop._asyncio_event_loop.run_until_complete(get_msg(future_msg))\n",
      "  File \"C:\\Users\\Adrian\\miniconda3\\envs\\bio325_2021\\lib\\asyncio\\base_events.py\", line 618, in run_until_complete\n",
      "    self._check_running()\n",
      "  File \"C:\\Users\\Adrian\\miniconda3\\envs\\bio325_2021\\lib\\asyncio\\base_events.py\", line 580, in _check_running\n",
      "    raise RuntimeError(\n",
      "RuntimeError: Cannot run the event loop while another loop is running\n"
     ]
    }
   ],
   "source": [
    "viewer = napari.Viewer()\n",
    "viewer.add_image(file['intensity_images/sdcCy5'][:], name='sdcCy5', colormap='green')\n",
    "viewer.add_labels(file['label_images/cells'][:])"
   ]
  },
  {
   "cell_type": "code",
   "execution_count": 11,
   "id": "3d41347a-39ca-45d4-86fc-434347e3e999",
   "metadata": {},
   "outputs": [
    {
     "name": "stderr",
     "output_type": "stream",
     "text": [
      "C:\\Users\\Adrian\\AppData\\Roaming\\Python\\Python39\\site-packages\\napari\\utils\\events\\event.py:781: RuntimeWarning: coroutine 'get_msg' was never awaited\n",
      "  self.add(**emitters)  # type: ignore\n",
      "RuntimeWarning: Enable tracemalloc to get the object allocation traceback\n"
     ]
    },
    {
     "data": {
      "text/plain": [
       "<Labels layer 'Labels [2]' at 0x1fc0554d160>"
      ]
     },
     "execution_count": 11,
     "metadata": {},
     "output_type": "execute_result"
    }
   ],
   "source": [
    "viewer.add_labels(file['label_images/cells'][:].astype('uint16'))\n",
    "viewer.add_labels(file['label_images/nuclei'][:].astype('uint16'))\n",
    "viewer.add_labels(file['label_images/cytoplasm'][:].astype('uint16'))"
   ]
  },
  {
   "cell_type": "code",
   "execution_count": null,
   "id": "ff7346f6-63e5-49e2-8798-73f485c32045",
   "metadata": {},
   "outputs": [],
   "source": []
  }
 ],
 "metadata": {
  "kernelspec": {
   "display_name": "Python 3 (ipykernel)",
   "language": "python",
   "name": "python3"
  },
  "language_info": {
   "codemirror_mode": {
    "name": "ipython",
    "version": 3
   },
   "file_extension": ".py",
   "mimetype": "text/x-python",
   "name": "python",
   "nbconvert_exporter": "python",
   "pygments_lexer": "ipython3",
   "version": "3.9.7"
  }
 },
 "nbformat": 4,
 "nbformat_minor": 5
}
