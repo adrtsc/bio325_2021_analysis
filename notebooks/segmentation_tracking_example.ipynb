{
 "cells": [
  {
   "cell_type": "code",
   "execution_count": 15,
   "id": "286643f3-d9f2-4c61-9944-221e7fb19c93",
   "metadata": {},
   "outputs": [],
   "source": [
    "import napari\n",
    "import h5py\n",
    "from pathlib import Path\n",
    "from lca.ndt.segmentation import segment_nuclei_cellpose_2DT\n",
    "from lca.ndt.LapTracker import LapTracker\n",
    "from lca.ndt.measure import measure_intensity_2DT, measure_morphology_2DT"
   ]
  },
  {
   "cell_type": "markdown",
   "id": "51cf5f57-ad87-474e-90fd-892af513edc6",
   "metadata": {},
   "source": [
    "# Object segmentation with cellpose\n",
    "\n",
    "In this notebook, we will try to segment cells/nuclei in microscopy images. We will use a deep-learning based approach to segment the objects in this course (as opposed to more classical approaches). The largest disadvantage of deep-learning based approaches is that they often require training data that is hard to produce. In this course, we will circumvent this by using cellpose (http://www.cellpose.org/). Cellpose is a generalist deep-learning based approach that performs very well out-of-the-box to segment nuclei and cytoplasm of cells in images. \n",
    "\n",
    "\n",
    "### Nuclei segmentation\n",
    "Let's start by loading some of the images that you have produced into memory. Make sure to adjust the path!:"
   ]
  },
  {
   "cell_type": "code",
   "execution_count": 16,
   "id": "3239261c-bbf8-4bbe-b76c-5df4d1fdd949",
   "metadata": {},
   "outputs": [],
   "source": [
    "img_path = Path(r'X:\\20211028_Bio325_Sec16\\hdf5')\n",
    "site = 7\n",
    "file = h5py.File(img_path.joinpath('site_%04d.hdf5' % site), \"r\")"
   ]
  },
  {
   "cell_type": "markdown",
   "id": "5fe565a0-29be-43d7-a108-e36ea41205c7",
   "metadata": {},
   "source": [
    "Now let's look at the data in napari. Cellpose has a plugin for napari that let's you use a graphical user interface to do segmentation!"
   ]
  },
  {
   "cell_type": "code",
   "execution_count": 7,
   "id": "acfecb21-dcb3-46c4-80e3-c24aa801146a",
   "metadata": {},
   "outputs": [
    {
     "name": "stdout",
     "output_type": "stream",
     "text": [
      "creating new log file\n",
      "2021-10-29 14:53:30,952 [INFO] WRITING LOG OUTPUT TO C:\\Users\\Adrian\\.cellpose\\run.log\n"
     ]
    },
    {
     "data": {
      "text/plain": [
       "<Image layer 'nuclei_img' at 0x29ad88f75b0>"
      ]
     },
     "execution_count": 7,
     "metadata": {},
     "output_type": "execute_result"
    },
    {
     "name": "stdout",
     "output_type": "stream",
     "text": [
      "2021-10-29 14:53:34,210 [ERROR] Uncaught exception in ZMQStream callback\n",
      "Traceback (most recent call last):\n",
      "  File \"C:\\Users\\Adrian\\miniconda3\\envs\\bio325_2021\\lib\\site-packages\\zmq\\eventloop\\zmqstream.py\", line 431, in _run_callback\n",
      "    callback(*args, **kwargs)\n",
      "  File \"C:\\Users\\Adrian\\miniconda3\\envs\\bio325_2021\\lib\\site-packages\\jupyter_client\\threaded.py\", line 121, in _handle_recv\n",
      "    msg_list = self.ioloop._asyncio_event_loop.run_until_complete(get_msg(future_msg))\n",
      "  File \"C:\\Users\\Adrian\\miniconda3\\envs\\bio325_2021\\lib\\asyncio\\base_events.py\", line 618, in run_until_complete\n",
      "    self._check_running()\n",
      "  File \"C:\\Users\\Adrian\\miniconda3\\envs\\bio325_2021\\lib\\asyncio\\base_events.py\", line 580, in _check_running\n",
      "    raise RuntimeError(\n",
      "RuntimeError: Cannot run the event loop while another loop is running\n",
      "2021-10-29 14:53:34,210 [ERROR] Uncaught exception in zmqstream callback\n",
      "Traceback (most recent call last):\n",
      "  File \"C:\\Users\\Adrian\\miniconda3\\envs\\bio325_2021\\lib\\site-packages\\zmq\\eventloop\\zmqstream.py\", line 452, in _handle_events\n",
      "    self._handle_recv()\n",
      "  File \"C:\\Users\\Adrian\\miniconda3\\envs\\bio325_2021\\lib\\site-packages\\zmq\\eventloop\\zmqstream.py\", line 481, in _handle_recv\n",
      "    self._run_callback(callback, msg)\n",
      "  File \"C:\\Users\\Adrian\\miniconda3\\envs\\bio325_2021\\lib\\site-packages\\zmq\\eventloop\\zmqstream.py\", line 431, in _run_callback\n",
      "    callback(*args, **kwargs)\n",
      "  File \"C:\\Users\\Adrian\\miniconda3\\envs\\bio325_2021\\lib\\site-packages\\jupyter_client\\threaded.py\", line 121, in _handle_recv\n",
      "    msg_list = self.ioloop._asyncio_event_loop.run_until_complete(get_msg(future_msg))\n",
      "  File \"C:\\Users\\Adrian\\miniconda3\\envs\\bio325_2021\\lib\\asyncio\\base_events.py\", line 618, in run_until_complete\n",
      "    self._check_running()\n",
      "  File \"C:\\Users\\Adrian\\miniconda3\\envs\\bio325_2021\\lib\\asyncio\\base_events.py\", line 580, in _check_running\n",
      "    raise RuntimeError(\n",
      "RuntimeError: Cannot run the event loop while another loop is running\n",
      "2021-10-29 14:53:34,210 [ERROR] Exception in callback BaseAsyncIOLoop._handle_events(7856, 1)\n",
      "handle: <Handle BaseAsyncIOLoop._handle_events(7856, 1)>\n",
      "Traceback (most recent call last):\n",
      "  File \"C:\\Users\\Adrian\\miniconda3\\envs\\bio325_2021\\lib\\asyncio\\events.py\", line 80, in _run\n",
      "    self._context.run(self._callback, *self._args)\n",
      "  File \"C:\\Users\\Adrian\\miniconda3\\envs\\bio325_2021\\lib\\site-packages\\tornado\\platform\\asyncio.py\", line 189, in _handle_events\n",
      "    handler_func(fileobj, events)\n",
      "  File \"C:\\Users\\Adrian\\miniconda3\\envs\\bio325_2021\\lib\\site-packages\\zmq\\eventloop\\zmqstream.py\", line 452, in _handle_events\n",
      "    self._handle_recv()\n",
      "  File \"C:\\Users\\Adrian\\miniconda3\\envs\\bio325_2021\\lib\\site-packages\\zmq\\eventloop\\zmqstream.py\", line 481, in _handle_recv\n",
      "    self._run_callback(callback, msg)\n",
      "  File \"C:\\Users\\Adrian\\miniconda3\\envs\\bio325_2021\\lib\\site-packages\\zmq\\eventloop\\zmqstream.py\", line 431, in _run_callback\n",
      "    callback(*args, **kwargs)\n",
      "  File \"C:\\Users\\Adrian\\miniconda3\\envs\\bio325_2021\\lib\\site-packages\\jupyter_client\\threaded.py\", line 121, in _handle_recv\n",
      "    msg_list = self.ioloop._asyncio_event_loop.run_until_complete(get_msg(future_msg))\n",
      "  File \"C:\\Users\\Adrian\\miniconda3\\envs\\bio325_2021\\lib\\asyncio\\base_events.py\", line 618, in run_until_complete\n",
      "    self._check_running()\n",
      "  File \"C:\\Users\\Adrian\\miniconda3\\envs\\bio325_2021\\lib\\asyncio\\base_events.py\", line 580, in _check_running\n",
      "    raise RuntimeError(\n",
      "RuntimeError: Cannot run the event loop while another loop is running\n"
     ]
    }
   ],
   "source": [
    "nuclei_img = file['intensity_images/sdcDAPIxmRFPm'][0,:,:]\n",
    "\n",
    "viewer = napari.Viewer()\n",
    "viewer.add_image(nuclei_img)"
   ]
  },
  {
   "cell_type": "markdown",
   "id": "9caf3df7-f16b-455d-af94-3d57c64caafe",
   "metadata": {},
   "source": [
    "In the IT introduction we already used a plugin in napari. You can open plugins from the menu bar under Plugins. There you should see \"cellpose-napari: cellpose\".\n",
    "\n",
    "Try to play around with the settings to get a decent segmentation of the nuclei. \n",
    "IMPORTANT: keep the \"resample dynamics\" box unticked. If you use this option it will take a very long time to generate the segmentation.\n",
    "\n",
    "### Cell segmentation\n",
    "\n",
    "If you are happy with your nuclei segmentation, try to load an image of the membrane marker and see if you can generate a segmentation of the cells as well!"
   ]
  },
  {
   "cell_type": "code",
   "execution_count": 8,
   "id": "aa5283d9-8817-4f70-985e-d92f5406e832",
   "metadata": {},
   "outputs": [
    {
     "name": "stderr",
     "output_type": "stream",
     "text": [
      "C:\\Users\\Adrian\\miniconda3\\envs\\bio325_2021\\lib\\abc.py:123: RuntimeWarning: coroutine 'get_msg' was never awaited\n",
      "  return _abc_subclasscheck(cls, subclass)\n",
      "RuntimeWarning: Enable tracemalloc to get the object allocation traceback\n"
     ]
    },
    {
     "data": {
      "text/plain": [
       "<Image layer 'cell_img' at 0x29afea2b670>"
      ]
     },
     "execution_count": 8,
     "metadata": {},
     "output_type": "execute_result"
    },
    {
     "name": "stdout",
     "output_type": "stream",
     "text": [
      "2021-10-29 14:53:46,624 [ERROR] Uncaught exception in ZMQStream callback\n",
      "Traceback (most recent call last):\n",
      "  File \"C:\\Users\\Adrian\\miniconda3\\envs\\bio325_2021\\lib\\site-packages\\zmq\\eventloop\\zmqstream.py\", line 431, in _run_callback\n",
      "    callback(*args, **kwargs)\n",
      "  File \"C:\\Users\\Adrian\\miniconda3\\envs\\bio325_2021\\lib\\site-packages\\jupyter_client\\threaded.py\", line 121, in _handle_recv\n",
      "    msg_list = self.ioloop._asyncio_event_loop.run_until_complete(get_msg(future_msg))\n",
      "  File \"C:\\Users\\Adrian\\miniconda3\\envs\\bio325_2021\\lib\\asyncio\\base_events.py\", line 618, in run_until_complete\n",
      "    self._check_running()\n",
      "  File \"C:\\Users\\Adrian\\miniconda3\\envs\\bio325_2021\\lib\\asyncio\\base_events.py\", line 580, in _check_running\n",
      "    raise RuntimeError(\n",
      "RuntimeError: Cannot run the event loop while another loop is running\n",
      "2021-10-29 14:53:46,624 [ERROR] Uncaught exception in zmqstream callback\n",
      "Traceback (most recent call last):\n",
      "  File \"C:\\Users\\Adrian\\miniconda3\\envs\\bio325_2021\\lib\\site-packages\\zmq\\eventloop\\zmqstream.py\", line 452, in _handle_events\n",
      "    self._handle_recv()\n",
      "  File \"C:\\Users\\Adrian\\miniconda3\\envs\\bio325_2021\\lib\\site-packages\\zmq\\eventloop\\zmqstream.py\", line 481, in _handle_recv\n",
      "    self._run_callback(callback, msg)\n",
      "  File \"C:\\Users\\Adrian\\miniconda3\\envs\\bio325_2021\\lib\\site-packages\\zmq\\eventloop\\zmqstream.py\", line 431, in _run_callback\n",
      "    callback(*args, **kwargs)\n",
      "  File \"C:\\Users\\Adrian\\miniconda3\\envs\\bio325_2021\\lib\\site-packages\\jupyter_client\\threaded.py\", line 121, in _handle_recv\n",
      "    msg_list = self.ioloop._asyncio_event_loop.run_until_complete(get_msg(future_msg))\n",
      "  File \"C:\\Users\\Adrian\\miniconda3\\envs\\bio325_2021\\lib\\asyncio\\base_events.py\", line 618, in run_until_complete\n",
      "    self._check_running()\n",
      "  File \"C:\\Users\\Adrian\\miniconda3\\envs\\bio325_2021\\lib\\asyncio\\base_events.py\", line 580, in _check_running\n",
      "    raise RuntimeError(\n",
      "RuntimeError: Cannot run the event loop while another loop is running\n",
      "2021-10-29 14:53:46,624 [ERROR] Exception in callback BaseAsyncIOLoop._handle_events(8084, 1)\n",
      "handle: <Handle BaseAsyncIOLoop._handle_events(8084, 1)>\n",
      "Traceback (most recent call last):\n",
      "  File \"C:\\Users\\Adrian\\miniconda3\\envs\\bio325_2021\\lib\\asyncio\\events.py\", line 80, in _run\n",
      "    self._context.run(self._callback, *self._args)\n",
      "  File \"C:\\Users\\Adrian\\miniconda3\\envs\\bio325_2021\\lib\\site-packages\\tornado\\platform\\asyncio.py\", line 189, in _handle_events\n",
      "    handler_func(fileobj, events)\n",
      "  File \"C:\\Users\\Adrian\\miniconda3\\envs\\bio325_2021\\lib\\site-packages\\zmq\\eventloop\\zmqstream.py\", line 452, in _handle_events\n",
      "    self._handle_recv()\n",
      "  File \"C:\\Users\\Adrian\\miniconda3\\envs\\bio325_2021\\lib\\site-packages\\zmq\\eventloop\\zmqstream.py\", line 481, in _handle_recv\n",
      "    self._run_callback(callback, msg)\n",
      "  File \"C:\\Users\\Adrian\\miniconda3\\envs\\bio325_2021\\lib\\site-packages\\zmq\\eventloop\\zmqstream.py\", line 431, in _run_callback\n",
      "    callback(*args, **kwargs)\n",
      "  File \"C:\\Users\\Adrian\\miniconda3\\envs\\bio325_2021\\lib\\site-packages\\jupyter_client\\threaded.py\", line 121, in _handle_recv\n",
      "    msg_list = self.ioloop._asyncio_event_loop.run_until_complete(get_msg(future_msg))\n",
      "  File \"C:\\Users\\Adrian\\miniconda3\\envs\\bio325_2021\\lib\\asyncio\\base_events.py\", line 618, in run_until_complete\n",
      "    self._check_running()\n",
      "  File \"C:\\Users\\Adrian\\miniconda3\\envs\\bio325_2021\\lib\\asyncio\\base_events.py\", line 580, in _check_running\n",
      "    raise RuntimeError(\n",
      "RuntimeError: Cannot run the event loop while another loop is running\n"
     ]
    }
   ],
   "source": [
    "# try cell segmentation\n",
    "cell_img = file['intensity_images/sdcCy5'][0,:,:]\n",
    "\n",
    "viewer = napari.Viewer()\n",
    "viewer.add_image(cell_img)"
   ]
  },
  {
   "cell_type": "markdown",
   "id": "44b04c90-8f06-4a3d-ab4d-2f8141e12d1f",
   "metadata": {},
   "source": [
    "# Segmentation and object tracking with 2DT data \n",
    "Since the data you have generated are movies, we can think of them as 3D arrays in which the third dimension is time (2DT). We can also do segmentations for a 2DT array directly instead of only a single image. Let's start by loading a 3D image stack. This stack will have the dimensions (t, y, x). Run the next cell and look at the images in napari."
   ]
  },
  {
   "cell_type": "code",
   "execution_count": 10,
   "id": "f23b1a5f-209e-4a65-b18f-cf9cbe344900",
   "metadata": {},
   "outputs": [
    {
     "data": {
      "text/plain": [
       "<Image layer 'nuclei_img_2DT' at 0x29a9e131b50>"
      ]
     },
     "execution_count": 10,
     "metadata": {},
     "output_type": "execute_result"
    },
    {
     "name": "stdout",
     "output_type": "stream",
     "text": [
      "2021-10-29 14:58:37,599 [ERROR] Uncaught exception in ZMQStream callback\n",
      "Traceback (most recent call last):\n",
      "  File \"C:\\Users\\Adrian\\miniconda3\\envs\\bio325_2021\\lib\\site-packages\\zmq\\eventloop\\zmqstream.py\", line 431, in _run_callback\n",
      "    callback(*args, **kwargs)\n",
      "  File \"C:\\Users\\Adrian\\miniconda3\\envs\\bio325_2021\\lib\\site-packages\\jupyter_client\\threaded.py\", line 121, in _handle_recv\n",
      "    msg_list = self.ioloop._asyncio_event_loop.run_until_complete(get_msg(future_msg))\n",
      "  File \"C:\\Users\\Adrian\\miniconda3\\envs\\bio325_2021\\lib\\asyncio\\base_events.py\", line 618, in run_until_complete\n",
      "    self._check_running()\n",
      "  File \"C:\\Users\\Adrian\\miniconda3\\envs\\bio325_2021\\lib\\asyncio\\base_events.py\", line 580, in _check_running\n",
      "    raise RuntimeError(\n",
      "RuntimeError: Cannot run the event loop while another loop is running\n",
      "2021-10-29 14:58:37,614 [ERROR] Uncaught exception in zmqstream callback\n",
      "Traceback (most recent call last):\n",
      "  File \"C:\\Users\\Adrian\\miniconda3\\envs\\bio325_2021\\lib\\site-packages\\zmq\\eventloop\\zmqstream.py\", line 452, in _handle_events\n",
      "    self._handle_recv()\n",
      "  File \"C:\\Users\\Adrian\\miniconda3\\envs\\bio325_2021\\lib\\site-packages\\zmq\\eventloop\\zmqstream.py\", line 481, in _handle_recv\n",
      "    self._run_callback(callback, msg)\n",
      "  File \"C:\\Users\\Adrian\\miniconda3\\envs\\bio325_2021\\lib\\site-packages\\zmq\\eventloop\\zmqstream.py\", line 431, in _run_callback\n",
      "    callback(*args, **kwargs)\n",
      "  File \"C:\\Users\\Adrian\\miniconda3\\envs\\bio325_2021\\lib\\site-packages\\jupyter_client\\threaded.py\", line 121, in _handle_recv\n",
      "    msg_list = self.ioloop._asyncio_event_loop.run_until_complete(get_msg(future_msg))\n",
      "  File \"C:\\Users\\Adrian\\miniconda3\\envs\\bio325_2021\\lib\\asyncio\\base_events.py\", line 618, in run_until_complete\n",
      "    self._check_running()\n",
      "  File \"C:\\Users\\Adrian\\miniconda3\\envs\\bio325_2021\\lib\\asyncio\\base_events.py\", line 580, in _check_running\n",
      "    raise RuntimeError(\n",
      "RuntimeError: Cannot run the event loop while another loop is running\n",
      "2021-10-29 14:58:37,630 [ERROR] Exception in callback BaseAsyncIOLoop._handle_events(8792, 1)\n",
      "handle: <Handle BaseAsyncIOLoop._handle_events(8792, 1)>\n",
      "Traceback (most recent call last):\n",
      "  File \"C:\\Users\\Adrian\\miniconda3\\envs\\bio325_2021\\lib\\asyncio\\events.py\", line 80, in _run\n",
      "    self._context.run(self._callback, *self._args)\n",
      "  File \"C:\\Users\\Adrian\\miniconda3\\envs\\bio325_2021\\lib\\site-packages\\tornado\\platform\\asyncio.py\", line 189, in _handle_events\n",
      "    handler_func(fileobj, events)\n",
      "  File \"C:\\Users\\Adrian\\miniconda3\\envs\\bio325_2021\\lib\\site-packages\\zmq\\eventloop\\zmqstream.py\", line 452, in _handle_events\n",
      "    self._handle_recv()\n",
      "  File \"C:\\Users\\Adrian\\miniconda3\\envs\\bio325_2021\\lib\\site-packages\\zmq\\eventloop\\zmqstream.py\", line 481, in _handle_recv\n",
      "    self._run_callback(callback, msg)\n",
      "  File \"C:\\Users\\Adrian\\miniconda3\\envs\\bio325_2021\\lib\\site-packages\\zmq\\eventloop\\zmqstream.py\", line 431, in _run_callback\n",
      "    callback(*args, **kwargs)\n",
      "  File \"C:\\Users\\Adrian\\miniconda3\\envs\\bio325_2021\\lib\\site-packages\\jupyter_client\\threaded.py\", line 121, in _handle_recv\n",
      "    msg_list = self.ioloop._asyncio_event_loop.run_until_complete(get_msg(future_msg))\n",
      "  File \"C:\\Users\\Adrian\\miniconda3\\envs\\bio325_2021\\lib\\asyncio\\base_events.py\", line 618, in run_until_complete\n",
      "    self._check_running()\n",
      "  File \"C:\\Users\\Adrian\\miniconda3\\envs\\bio325_2021\\lib\\asyncio\\base_events.py\", line 580, in _check_running\n",
      "    raise RuntimeError(\n",
      "RuntimeError: Cannot run the event loop while another loop is running\n"
     ]
    }
   ],
   "source": [
    "nuclei_img_2DT = file['intensity_images/sdcDAPIxmRFPm'][0:5,:,:]\n",
    "viewer = napari.Viewer()\n",
    "viewer.add_image(nuclei_img_2DT)"
   ]
  },
  {
   "cell_type": "markdown",
   "id": "f4a19117-cba5-46fb-82d6-48ad68b3d85a",
   "metadata": {},
   "source": [
    "The next cell will create cellpose segmentations for the nuclei at each timepoint of the 3D image and add it to napari as labels. It is doing the same thing as the cellpose plugin for napari, just without a graphical user interface. Make sure that you adapt the diameter with the diameter that worked for you during testing with the cellpose plugin for napari"
   ]
  },
  {
   "cell_type": "code",
   "execution_count": 13,
   "id": "65359fcd-956e-4283-ad99-db8ed22f23bb",
   "metadata": {},
   "outputs": [
    {
     "name": "stdout",
     "output_type": "stream",
     "text": [
      "2021-10-29 14:59:13,551 [INFO] >>>> using CPU\n",
      "2021-10-29 14:59:19,609 [INFO] ~~~ FINDING MASKS ~~~\n",
      "2021-10-29 14:59:28,041 [INFO] >>>> TOTAL TIME 8.43 sec\n",
      "2021-10-29 14:59:28,182 [INFO] >>>> using CPU\n",
      "2021-10-29 14:59:34,037 [INFO] ~~~ FINDING MASKS ~~~\n",
      "2021-10-29 14:59:42,478 [INFO] >>>> TOTAL TIME 8.44 sec\n",
      "2021-10-29 14:59:42,631 [INFO] >>>> using CPU\n",
      "2021-10-29 14:59:48,486 [INFO] ~~~ FINDING MASKS ~~~\n",
      "2021-10-29 14:59:56,972 [INFO] >>>> TOTAL TIME 8.49 sec\n",
      "2021-10-29 14:59:57,115 [INFO] >>>> using CPU\n",
      "2021-10-29 15:00:02,947 [INFO] ~~~ FINDING MASKS ~~~\n",
      "2021-10-29 15:00:11,433 [INFO] >>>> TOTAL TIME 8.49 sec\n",
      "2021-10-29 15:00:11,566 [INFO] >>>> using CPU\n",
      "2021-10-29 15:00:17,420 [INFO] ~~~ FINDING MASKS ~~~\n",
      "2021-10-29 15:00:25,773 [INFO] >>>> TOTAL TIME 8.35 sec\n"
     ]
    },
    {
     "data": {
      "text/plain": [
       "<Labels layer 'nuclei_2DT' at 0x29ac694e9a0>"
      ]
     },
     "execution_count": 13,
     "metadata": {},
     "output_type": "execute_result"
    }
   ],
   "source": [
    "nuclei_2DT = segment_nuclei_cellpose_2DT(nuclei_img_2DT, diameter=150, resample=False)\n",
    "viewer.add_labels(nuclei_2DT)"
   ]
  },
  {
   "cell_type": "markdown",
   "id": "4a256b90-ef5a-4687-acc9-9de61c40b6c0",
   "metadata": {},
   "source": [
    "As you can see we now have labels for each timepoint. As humans, it is easy for us to see which labels correspond to the same nucleus in the image over time. But the computer doesn't have a clue so far, so we need to tell it somehow which labels belong together over time. This process is called \"object tracking\". There is a lot of object tracking algorithms out there. Today we will use a so called \"linear assignment problem\" tracker that is based on the following publication: https://www.nature.com/articles/nmeth.1237. \n",
    "\n",
    "The following cell will perform the tracking for you. As you know by now, napari has multiple layer \"types\" (e.g. image layers and label layers). There is also a layer type called tracks layer. This is a very handy way to visualize tracking results. The results of the tracking will be added to your napari viewer on a tracks layer. Run the following cell and see what happens on the napari viewer. Are you happy with the tracking? If not, try to play with the parameters of the tracker (max_distance, time_window, max_split_distance, max_gap_closing_distance) and run the cell again."
   ]
  },
  {
   "cell_type": "code",
   "execution_count": 14,
   "id": "0be49ce6-2669-4581-8471-499400c351ea",
   "metadata": {},
   "outputs": [
    {
     "name": "stderr",
     "output_type": "stream",
     "text": [
      "measuring centroids |################################| 5/5\n",
      "linking objects across time |################################| 4/4\n"
     ]
    },
    {
     "name": "stdout",
     "output_type": "stream",
     "text": [
      "linking track segments across timepoints\n",
      "calculating average displacement per segment\n"
     ]
    },
    {
     "name": "stderr",
     "output_type": "stream",
     "text": [
      "switching labels |################################| 4/4\n"
     ]
    },
    {
     "data": {
      "text/plain": [
       "<Tracks layer 'Tracks' at 0x29ac695e190>"
      ]
     },
     "execution_count": 14,
     "metadata": {},
     "output_type": "execute_result"
    }
   ],
   "source": [
    "tracker = LapTracker(max_distance=50, time_window=3, max_split_distance=100, max_gap_closing_distance=100)\n",
    "tracked_labels, tracks = tracker.track_label_images(nuclei_2DT)\n",
    "viewer.add_tracks(tracks[['track_id', 'timepoint', 'centroid-0', 'centroid-1']])"
   ]
  },
  {
   "cell_type": "markdown",
   "id": "ae1a176f-5a75-4ba3-a65b-4ae1e2c6d853",
   "metadata": {},
   "source": [
    "# Feature measurements"
   ]
  },
  {
   "cell_type": "markdown",
   "id": "91c6197b-83d0-4f83-aef9-828209330ac2",
   "metadata": {},
   "source": [
    "Now that we have segmentations we can start to think about things we want to measure. Typical measurements that are interesting are, for example, morphology features (how do object shapes look like?) and intensity features (what kind of intensities do we observe inside of objects).\n",
    "\n",
    "We can measure these features for 2DT stacks with the measure_morphology_2DT and measure_intensity_2DT functions that we imported at the beginning of the file. Let's see what their output looks like"
   ]
  },
  {
   "cell_type": "code",
   "execution_count": 17,
   "id": "d345fc6a-a754-4677-a414-31ddde1e6ec5",
   "metadata": {},
   "outputs": [],
   "source": [
    "# measure morphology  \n",
    "morphology_features = measure_morphology_2DT(nuclei_2DT)"
   ]
  },
  {
   "cell_type": "code",
   "execution_count": 18,
   "id": "bda23fe6-bc59-4882-a0f3-403f62cb6f09",
   "metadata": {},
   "outputs": [
    {
     "data": {
      "text/html": [
       "<div>\n",
       "<style scoped>\n",
       "    .dataframe tbody tr th:only-of-type {\n",
       "        vertical-align: middle;\n",
       "    }\n",
       "\n",
       "    .dataframe tbody tr th {\n",
       "        vertical-align: top;\n",
       "    }\n",
       "\n",
       "    .dataframe thead th {\n",
       "        text-align: right;\n",
       "    }\n",
       "</style>\n",
       "<table border=\"1\" class=\"dataframe\">\n",
       "  <thead>\n",
       "    <tr style=\"text-align: right;\">\n",
       "      <th></th>\n",
       "      <th>label</th>\n",
       "      <th>area</th>\n",
       "      <th>bbox-0</th>\n",
       "      <th>bbox-1</th>\n",
       "      <th>bbox-2</th>\n",
       "      <th>bbox-3</th>\n",
       "      <th>bbox_area</th>\n",
       "      <th>centroid-0</th>\n",
       "      <th>centroid-1</th>\n",
       "      <th>convex_area</th>\n",
       "      <th>...</th>\n",
       "      <th>moments_normalized-2-2</th>\n",
       "      <th>moments_normalized-2-3</th>\n",
       "      <th>moments_normalized-3-0</th>\n",
       "      <th>moments_normalized-3-1</th>\n",
       "      <th>moments_normalized-3-2</th>\n",
       "      <th>moments_normalized-3-3</th>\n",
       "      <th>orientation</th>\n",
       "      <th>perimeter</th>\n",
       "      <th>solidity</th>\n",
       "      <th>timepoint</th>\n",
       "    </tr>\n",
       "  </thead>\n",
       "  <tbody>\n",
       "    <tr>\n",
       "      <th>0</th>\n",
       "      <td>1</td>\n",
       "      <td>4312</td>\n",
       "      <td>0</td>\n",
       "      <td>27</td>\n",
       "      <td>80</td>\n",
       "      <td>98</td>\n",
       "      <td>5680</td>\n",
       "      <td>40.412106</td>\n",
       "      <td>63.559137</td>\n",
       "      <td>4727</td>\n",
       "      <td>...</td>\n",
       "      <td>0.004355</td>\n",
       "      <td>0.000028</td>\n",
       "      <td>-0.002428</td>\n",
       "      <td>-0.001798</td>\n",
       "      <td>0.000137</td>\n",
       "      <td>-0.000168</td>\n",
       "      <td>-0.430977</td>\n",
       "      <td>292.727922</td>\n",
       "      <td>0.912206</td>\n",
       "      <td>0</td>\n",
       "    </tr>\n",
       "    <tr>\n",
       "      <th>1</th>\n",
       "      <td>2</td>\n",
       "      <td>3214</td>\n",
       "      <td>0</td>\n",
       "      <td>168</td>\n",
       "      <td>53</td>\n",
       "      <td>230</td>\n",
       "      <td>3286</td>\n",
       "      <td>25.495955</td>\n",
       "      <td>199.093653</td>\n",
       "      <td>3246</td>\n",
       "      <td>...</td>\n",
       "      <td>0.006575</td>\n",
       "      <td>0.000184</td>\n",
       "      <td>0.000445</td>\n",
       "      <td>0.000716</td>\n",
       "      <td>-0.000157</td>\n",
       "      <td>0.000167</td>\n",
       "      <td>1.413016</td>\n",
       "      <td>225.414214</td>\n",
       "      <td>0.990142</td>\n",
       "      <td>0</td>\n",
       "    </tr>\n",
       "    <tr>\n",
       "      <th>2</th>\n",
       "      <td>3</td>\n",
       "      <td>4187</td>\n",
       "      <td>0</td>\n",
       "      <td>398</td>\n",
       "      <td>71</td>\n",
       "      <td>468</td>\n",
       "      <td>4970</td>\n",
       "      <td>33.284691</td>\n",
       "      <td>434.917124</td>\n",
       "      <td>4490</td>\n",
       "      <td>...</td>\n",
       "      <td>0.005710</td>\n",
       "      <td>0.000082</td>\n",
       "      <td>0.000589</td>\n",
       "      <td>-0.001195</td>\n",
       "      <td>-0.000500</td>\n",
       "      <td>-0.000208</td>\n",
       "      <td>-0.452212</td>\n",
       "      <td>275.071068</td>\n",
       "      <td>0.932517</td>\n",
       "      <td>0</td>\n",
       "    </tr>\n",
       "    <tr>\n",
       "      <th>3</th>\n",
       "      <td>4</td>\n",
       "      <td>5852</td>\n",
       "      <td>0</td>\n",
       "      <td>751</td>\n",
       "      <td>98</td>\n",
       "      <td>830</td>\n",
       "      <td>7742</td>\n",
       "      <td>49.994874</td>\n",
       "      <td>789.943096</td>\n",
       "      <td>6381</td>\n",
       "      <td>...</td>\n",
       "      <td>0.004910</td>\n",
       "      <td>-0.000126</td>\n",
       "      <td>-0.003219</td>\n",
       "      <td>0.004338</td>\n",
       "      <td>-0.000233</td>\n",
       "      <td>0.000414</td>\n",
       "      <td>0.359201</td>\n",
       "      <td>344.142136</td>\n",
       "      <td>0.917098</td>\n",
       "      <td>0</td>\n",
       "    </tr>\n",
       "    <tr>\n",
       "      <th>4</th>\n",
       "      <td>5</td>\n",
       "      <td>5150</td>\n",
       "      <td>0</td>\n",
       "      <td>857</td>\n",
       "      <td>71</td>\n",
       "      <td>945</td>\n",
       "      <td>6248</td>\n",
       "      <td>31.632427</td>\n",
       "      <td>901.240971</td>\n",
       "      <td>5515</td>\n",
       "      <td>...</td>\n",
       "      <td>0.005960</td>\n",
       "      <td>0.000449</td>\n",
       "      <td>0.003871</td>\n",
       "      <td>0.000207</td>\n",
       "      <td>-0.000511</td>\n",
       "      <td>-0.000041</td>\n",
       "      <td>1.528047</td>\n",
       "      <td>310.485281</td>\n",
       "      <td>0.933817</td>\n",
       "      <td>0</td>\n",
       "    </tr>\n",
       "  </tbody>\n",
       "</table>\n",
       "<p>5 rows × 75 columns</p>\n",
       "</div>"
      ],
      "text/plain": [
       "   label  area  bbox-0  bbox-1  bbox-2  bbox-3  bbox_area  centroid-0  \\\n",
       "0      1  4312       0      27      80      98       5680   40.412106   \n",
       "1      2  3214       0     168      53     230       3286   25.495955   \n",
       "2      3  4187       0     398      71     468       4970   33.284691   \n",
       "3      4  5852       0     751      98     830       7742   49.994874   \n",
       "4      5  5150       0     857      71     945       6248   31.632427   \n",
       "\n",
       "   centroid-1  convex_area  ...  moments_normalized-2-2  \\\n",
       "0   63.559137         4727  ...                0.004355   \n",
       "1  199.093653         3246  ...                0.006575   \n",
       "2  434.917124         4490  ...                0.005710   \n",
       "3  789.943096         6381  ...                0.004910   \n",
       "4  901.240971         5515  ...                0.005960   \n",
       "\n",
       "   moments_normalized-2-3  moments_normalized-3-0  moments_normalized-3-1  \\\n",
       "0                0.000028               -0.002428               -0.001798   \n",
       "1                0.000184                0.000445                0.000716   \n",
       "2                0.000082                0.000589               -0.001195   \n",
       "3               -0.000126               -0.003219                0.004338   \n",
       "4                0.000449                0.003871                0.000207   \n",
       "\n",
       "   moments_normalized-3-2  moments_normalized-3-3  orientation   perimeter  \\\n",
       "0                0.000137               -0.000168    -0.430977  292.727922   \n",
       "1               -0.000157                0.000167     1.413016  225.414214   \n",
       "2               -0.000500               -0.000208    -0.452212  275.071068   \n",
       "3               -0.000233                0.000414     0.359201  344.142136   \n",
       "4               -0.000511               -0.000041     1.528047  310.485281   \n",
       "\n",
       "   solidity  timepoint  \n",
       "0  0.912206          0  \n",
       "1  0.990142          0  \n",
       "2  0.932517          0  \n",
       "3  0.917098          0  \n",
       "4  0.933817          0  \n",
       "\n",
       "[5 rows x 75 columns]"
      ]
     },
     "execution_count": 18,
     "metadata": {},
     "output_type": "execute_result"
    }
   ],
   "source": [
    "morphology_features.head()"
   ]
  },
  {
   "cell_type": "code",
   "execution_count": 19,
   "id": "ec59fec3-a0ad-48e3-82be-d68131d0ceea",
   "metadata": {},
   "outputs": [],
   "source": [
    "# measure intensities\n",
    "intensity_features = measure_intensity_2DT(nuclei_2DT, nuclei_img_2DT)"
   ]
  },
  {
   "cell_type": "code",
   "execution_count": 20,
   "id": "5c66ef4d-7a11-4ec0-99a5-ecf144f7eb53",
   "metadata": {},
   "outputs": [
    {
     "data": {
      "text/html": [
       "<div>\n",
       "<style scoped>\n",
       "    .dataframe tbody tr th:only-of-type {\n",
       "        vertical-align: middle;\n",
       "    }\n",
       "\n",
       "    .dataframe tbody tr th {\n",
       "        vertical-align: top;\n",
       "    }\n",
       "\n",
       "    .dataframe thead th {\n",
       "        text-align: right;\n",
       "    }\n",
       "</style>\n",
       "<table border=\"1\" class=\"dataframe\">\n",
       "  <thead>\n",
       "    <tr style=\"text-align: right;\">\n",
       "      <th></th>\n",
       "      <th>label</th>\n",
       "      <th>max_intensity</th>\n",
       "      <th>mean_intensity</th>\n",
       "      <th>min_intensity</th>\n",
       "      <th>timepoint</th>\n",
       "    </tr>\n",
       "  </thead>\n",
       "  <tbody>\n",
       "    <tr>\n",
       "      <th>0</th>\n",
       "      <td>1</td>\n",
       "      <td>1010</td>\n",
       "      <td>623.099258</td>\n",
       "      <td>130</td>\n",
       "      <td>0</td>\n",
       "    </tr>\n",
       "    <tr>\n",
       "      <th>1</th>\n",
       "      <td>2</td>\n",
       "      <td>1113</td>\n",
       "      <td>597.633790</td>\n",
       "      <td>128</td>\n",
       "      <td>0</td>\n",
       "    </tr>\n",
       "    <tr>\n",
       "      <th>2</th>\n",
       "      <td>3</td>\n",
       "      <td>2139</td>\n",
       "      <td>942.042274</td>\n",
       "      <td>183</td>\n",
       "      <td>0</td>\n",
       "    </tr>\n",
       "    <tr>\n",
       "      <th>3</th>\n",
       "      <td>4</td>\n",
       "      <td>1800</td>\n",
       "      <td>1219.423958</td>\n",
       "      <td>124</td>\n",
       "      <td>0</td>\n",
       "    </tr>\n",
       "    <tr>\n",
       "      <th>4</th>\n",
       "      <td>5</td>\n",
       "      <td>2147</td>\n",
       "      <td>1214.526990</td>\n",
       "      <td>104</td>\n",
       "      <td>0</td>\n",
       "    </tr>\n",
       "  </tbody>\n",
       "</table>\n",
       "</div>"
      ],
      "text/plain": [
       "   label  max_intensity  mean_intensity  min_intensity  timepoint\n",
       "0      1           1010      623.099258            130          0\n",
       "1      2           1113      597.633790            128          0\n",
       "2      3           2139      942.042274            183          0\n",
       "3      4           1800     1219.423958            124          0\n",
       "4      5           2147     1214.526990            104          0"
      ]
     },
     "execution_count": 20,
     "metadata": {},
     "output_type": "execute_result"
    }
   ],
   "source": [
    "intensity_features.head()"
   ]
  },
  {
   "cell_type": "code",
   "execution_count": null,
   "id": "8023180e-1bcd-4b0b-a0ce-98b6391b5388",
   "metadata": {},
   "outputs": [],
   "source": []
  }
 ],
 "metadata": {
  "kernelspec": {
   "display_name": "Python 3 (ipykernel)",
   "language": "python",
   "name": "python3"
  },
  "language_info": {
   "codemirror_mode": {
    "name": "ipython",
    "version": 3
   },
   "file_extension": ".py",
   "mimetype": "text/x-python",
   "name": "python",
   "nbconvert_exporter": "python",
   "pygments_lexer": "ipython3",
   "version": "3.9.7"
  }
 },
 "nbformat": 4,
 "nbformat_minor": 5
}
