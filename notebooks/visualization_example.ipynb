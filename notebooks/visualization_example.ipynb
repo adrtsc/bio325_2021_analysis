{
 "cells": [
  {
   "cell_type": "code",
   "execution_count": 4,
   "id": "84cf601c-0750-49d1-b97c-dd2e7a57d530",
   "metadata": {},
   "outputs": [],
   "source": [
    "from visualize_site_bio325 import visualize_site\n",
    "from pathlib import Path"
   ]
  },
  {
   "cell_type": "code",
   "execution_count": 8,
   "id": "3068dfe1-82b8-43e5-b8f2-6c75e5294021",
   "metadata": {},
   "outputs": [
    {
     "name": "stdout",
     "output_type": "stream",
     "text": [
      "2021-11-02 14:41:34,641 [ERROR] Uncaught exception in ZMQStream callback\n",
      "Traceback (most recent call last):\n",
      "  File \"C:\\Users\\Adrian\\miniconda3\\envs\\bio325_2021\\lib\\site-packages\\zmq\\eventloop\\zmqstream.py\", line 431, in _run_callback\n",
      "    callback(*args, **kwargs)\n",
      "  File \"C:\\Users\\Adrian\\miniconda3\\envs\\bio325_2021\\lib\\site-packages\\jupyter_client\\threaded.py\", line 121, in _handle_recv\n",
      "    msg_list = self.ioloop._asyncio_event_loop.run_until_complete(get_msg(future_msg))\n",
      "  File \"C:\\Users\\Adrian\\miniconda3\\envs\\bio325_2021\\lib\\asyncio\\base_events.py\", line 618, in run_until_complete\n",
      "    self._check_running()\n",
      "  File \"C:\\Users\\Adrian\\miniconda3\\envs\\bio325_2021\\lib\\asyncio\\base_events.py\", line 580, in _check_running\n",
      "    raise RuntimeError(\n",
      "RuntimeError: Cannot run the event loop while another loop is running\n",
      "2021-11-02 14:41:34,645 [ERROR] Uncaught exception in zmqstream callback\n",
      "Traceback (most recent call last):\n",
      "  File \"C:\\Users\\Adrian\\miniconda3\\envs\\bio325_2021\\lib\\site-packages\\zmq\\eventloop\\zmqstream.py\", line 452, in _handle_events\n",
      "    self._handle_recv()\n",
      "  File \"C:\\Users\\Adrian\\miniconda3\\envs\\bio325_2021\\lib\\site-packages\\zmq\\eventloop\\zmqstream.py\", line 481, in _handle_recv\n",
      "    self._run_callback(callback, msg)\n",
      "  File \"C:\\Users\\Adrian\\miniconda3\\envs\\bio325_2021\\lib\\site-packages\\zmq\\eventloop\\zmqstream.py\", line 431, in _run_callback\n",
      "    callback(*args, **kwargs)\n",
      "  File \"C:\\Users\\Adrian\\miniconda3\\envs\\bio325_2021\\lib\\site-packages\\jupyter_client\\threaded.py\", line 121, in _handle_recv\n",
      "    msg_list = self.ioloop._asyncio_event_loop.run_until_complete(get_msg(future_msg))\n",
      "  File \"C:\\Users\\Adrian\\miniconda3\\envs\\bio325_2021\\lib\\asyncio\\base_events.py\", line 618, in run_until_complete\n",
      "    self._check_running()\n",
      "  File \"C:\\Users\\Adrian\\miniconda3\\envs\\bio325_2021\\lib\\asyncio\\base_events.py\", line 580, in _check_running\n",
      "    raise RuntimeError(\n",
      "RuntimeError: Cannot run the event loop while another loop is running\n",
      "2021-11-02 14:41:34,647 [ERROR] Exception in callback BaseAsyncIOLoop._handle_events(9096, 1)\n",
      "handle: <Handle BaseAsyncIOLoop._handle_events(9096, 1)>\n",
      "Traceback (most recent call last):\n",
      "  File \"C:\\Users\\Adrian\\miniconda3\\envs\\bio325_2021\\lib\\asyncio\\events.py\", line 80, in _run\n",
      "    self._context.run(self._callback, *self._args)\n",
      "  File \"C:\\Users\\Adrian\\miniconda3\\envs\\bio325_2021\\lib\\site-packages\\tornado\\platform\\asyncio.py\", line 189, in _handle_events\n",
      "    handler_func(fileobj, events)\n",
      "  File \"C:\\Users\\Adrian\\miniconda3\\envs\\bio325_2021\\lib\\site-packages\\zmq\\eventloop\\zmqstream.py\", line 452, in _handle_events\n",
      "    self._handle_recv()\n",
      "  File \"C:\\Users\\Adrian\\miniconda3\\envs\\bio325_2021\\lib\\site-packages\\zmq\\eventloop\\zmqstream.py\", line 481, in _handle_recv\n",
      "    self._run_callback(callback, msg)\n",
      "  File \"C:\\Users\\Adrian\\miniconda3\\envs\\bio325_2021\\lib\\site-packages\\zmq\\eventloop\\zmqstream.py\", line 431, in _run_callback\n",
      "    callback(*args, **kwargs)\n",
      "  File \"C:\\Users\\Adrian\\miniconda3\\envs\\bio325_2021\\lib\\site-packages\\jupyter_client\\threaded.py\", line 121, in _handle_recv\n",
      "    msg_list = self.ioloop._asyncio_event_loop.run_until_complete(get_msg(future_msg))\n",
      "  File \"C:\\Users\\Adrian\\miniconda3\\envs\\bio325_2021\\lib\\asyncio\\base_events.py\", line 618, in run_until_complete\n",
      "    self._check_running()\n",
      "  File \"C:\\Users\\Adrian\\miniconda3\\envs\\bio325_2021\\lib\\asyncio\\base_events.py\", line 580, in _check_running\n",
      "    raise RuntimeError(\n",
      "RuntimeError: Cannot run the event loop while another loop is running\n"
     ]
    }
   ],
   "source": [
    "project_path = Path(r'X:\\20211028_Bio325_Sec16')\n",
    "\n",
    "color_mapping = {'sdcDAPIxmRFPm': 'blue',\n",
    "                 'sdcGFP': 'green',\n",
    "                 'sdcCy5': 'red'}\n",
    "\n",
    "visualize_site(project_path, 11, color_mapping)"
   ]
  },
  {
   "cell_type": "code",
   "execution_count": null,
   "id": "e9419754-3e48-4a76-9d21-8c06142cca74",
   "metadata": {},
   "outputs": [],
   "source": []
  }
 ],
 "metadata": {
  "kernelspec": {
   "display_name": "Python 3 (ipykernel)",
   "language": "python",
   "name": "python3"
  },
  "language_info": {
   "codemirror_mode": {
    "name": "ipython",
    "version": 3
   },
   "file_extension": ".py",
   "mimetype": "text/x-python",
   "name": "python",
   "nbconvert_exporter": "python",
   "pygments_lexer": "ipython3",
   "version": "3.9.7"
  }
 },
 "nbformat": 4,
 "nbformat_minor": 5
}
