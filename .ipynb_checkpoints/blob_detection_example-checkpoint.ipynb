{
 "cells": [
  {
   "cell_type": "code",
   "execution_count": 1,
   "id": "cd0a870a-8ca1-4e8c-9bba-3ad9475d7162",
   "metadata": {},
   "outputs": [],
   "source": [
    "import napari\n",
    "import h5py\n",
    "from pathlib import Path"
   ]
  },
  {
   "cell_type": "markdown",
   "id": "d49ae5bd-2d2e-41e5-9b8f-bdaadfeab5e0",
   "metadata": {},
   "source": [
    "The goal of this project is to measure nucleation rates for Sec16 and/or G3BP. To achieve this, we need a way to detect nucleation events.\n",
    "Luckily, this is a very typical challenge in image processing. The process of detecting round-ish things in images is called \"blob detection\". So let's go blob hunting!\n",
    "\n",
    "<img src=\"img/blob.jpg\" alt=\"Drawing\" style=\"width: 400px;\"/>\n",
    "\n",
    "To keep it a bit simple, we will (again!) make use of a napari plugin. This time, it is a plugin specialized in blob detection. You can find in under Plugins -> napari-blob-detection -> blob_detection \n",
    "The blob detection algorithm that this plugin uses is based on the Laplacian of Gaussian (LoG) filter. This filter makes edges and point patterns in images stand out so that they are more easily detected.\n",
    "\n",
    "Let's start by loading the image we want to perform blob detection on:"
   ]
  },
  {
   "cell_type": "code",
   "execution_count": 3,
   "id": "04cd8526-edb6-4f4b-b76b-0a9654b3ce79",
   "metadata": {},
   "outputs": [
    {
     "data": {
      "text/plain": [
       "<Image layer 'Image' at 0x1d562becc40>"
      ]
     },
     "execution_count": 3,
     "metadata": {},
     "output_type": "execute_result"
    }
   ],
   "source": [
    "img_path = Path(r'Z:\\20210930_dummy\\hdf5')\n",
    "site = 1\n",
    "file = h5py.File(img_path.joinpath('site_%04d.hdf5' % site), \"r\")\n",
    "\n",
    "# open napari and add the image\n",
    "\n",
    "viewer = napari.Viewer()\n",
    "viewer.add_image(file['intensity_images/sdcGFP'][0, :, :])\n"
   ]
  },
  {
   "cell_type": "code",
   "execution_count": null,
   "id": "003f6435-b8f7-4497-887e-5a8032ec34e7",
   "metadata": {},
   "outputs": [],
   "source": []
  },
  {
   "cell_type": "code",
   "execution_count": null,
   "id": "ef02113a-bc89-4a8a-a49a-88b210ec8d18",
   "metadata": {},
   "outputs": [],
   "source": []
  }
 ],
 "metadata": {
  "kernelspec": {
   "display_name": "Python 3 (ipykernel)",
   "language": "python",
   "name": "python3"
  },
  "language_info": {
   "codemirror_mode": {
    "name": "ipython",
    "version": 3
   },
   "file_extension": ".py",
   "mimetype": "text/x-python",
   "name": "python",
   "nbconvert_exporter": "python",
   "pygments_lexer": "ipython3",
   "version": "3.9.7"
  }
 },
 "nbformat": 4,
 "nbformat_minor": 5
}
